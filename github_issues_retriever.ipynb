{
 "cells": [
  {
   "cell_type": "markdown",
   "id": "78c6515b",
   "metadata": {},
   "source": [
    "# GitHub Issues Retriever\n",
    "\n",
    "This notebook demonstrates how to retrieve issues from a specific GitHub repository using the GitHub API. The issues will be filtered with the criteria `is:issue is:closed label:bug linked:pr`, and paginated with 10 issues per page. The issue description and issue ID are included in the response."
   ]
  },
  {
   "cell_type": "code",
   "execution_count": 26,
   "id": "2ef99479",
   "metadata": {},
   "outputs": [],
   "source": [
    "# Import necessary libraries\n",
    "import requests\n",
    "import os\n",
    "\n",
    "# GitHub API token (You may need to set this as an environment variable)\n",
    "GITHUB_TOKEN = os.getenv('GITHUB_TOKEN')\n",
    "\n",
    "# GitHub API base URL\n",
    "GITHUB_API_URL = 'https://api.github.com'\n"
   ]
  },
  {
   "cell_type": "code",
   "execution_count": 27,
   "id": "2fcfccc3",
   "metadata": {},
   "outputs": [],
   "source": [
    "# Helper function to get issues from GitHub\n",
    "def get_github_issues(owner, repo, page=1, per_page=10):\n",
    "    headers = {\n",
    "        'Authorization': f'token {GITHUB_TOKEN}',\n",
    "        'Accept': 'application/vnd.github.v3+json'\n",
    "    }\n",
    "    params = {\n",
    "        'q': f'repo:{owner}/{repo} is:issue is:closed label:bug linked:pr',\n",
    "        'page': page,\n",
    "        'per_page': per_page\n",
    "    }\n",
    "    response = requests.get(f'{GITHUB_API_URL}/search/issues', headers=headers, params=params)\n",
    "    response.raise_for_status()\n",
    "    return response.json()\n"
   ]
  },
  {
   "cell_type": "code",
   "execution_count": 28,
   "id": "8a92146d",
   "metadata": {},
   "outputs": [],
   "source": [
    "# Function to print issues\n",
    "def print_issues(issues_data):\n",
    "    issues_list = []\n",
    "    for item in issues_data.get('items', []):\n",
    "        issue = {\n",
    "            'id': item['id'],\n",
    "            'title': item['title'],\n",
    "            'body': item['body'],\n",
    "            'url': item['html_url']\n",
    "        }\n",
    "        issues_list.append(issue)\n",
    "    \n",
    "    # Print the issues\n",
    "    for issue in issues_list:\n",
    "        print(f\"Issue ID: {issue['id']}\")\n",
    "        print(f\"Title: {issue['title']}\")\n",
    "        # print(f\"Description: {issue['body']}\")\n",
    "        # print(f\"URL: {issue['url']}\")\n",
    "        print('-' * 40)\n"
   ]
  },
  {
   "cell_type": "code",
   "execution_count": 29,
   "id": "e99b876f",
   "metadata": {},
   "outputs": [
    {
     "name": "stdout",
     "output_type": "stream",
     "text": [
      "Issue ID: 2785809386\n",
      "Title: Multi-byte characters in Server Action inputs can get mangled when using the Edge Runtime\n",
      "----------------------------------------\n",
      "Issue ID: 2784346722\n",
      "Title: Regression in canary / 15.2 breaks libraries pre-compiled with React Compiler, it works fine in 15.1\n",
      "----------------------------------------\n",
      "Issue ID: 2775341074\n",
      "Title: CatchAll route next-intl: no default component was found\n",
      "----------------------------------------\n",
      "Issue ID: 2773592546\n",
      "Title: Infinite loading with fetch using force-cache\n",
      "----------------------------------------\n",
      "Issue ID: 2770430375\n",
      "Title: Types of `headers`, `rewrites` and `redirects` methods don't support synchronous returns\n",
      "----------------------------------------\n",
      "Issue ID: 2752859287\n",
      "Title: In Next.js 15 with Turbopack mode, the IIFE is not executing as expected, resulting in a strange bug.\n",
      "----------------------------------------\n",
      "Issue ID: 2752212464\n",
      "Title: Valid `this` in server actions\n",
      "----------------------------------------\n",
      "Issue ID: 2750609145\n",
      "Title: [DynamicIO] [Sitemap] Unable to create a cached/static `sitemap.ts` with `use cache`\n",
      "----------------------------------------\n",
      "Issue ID: 2748263574\n",
      "Title: `next dev --turbo` error when using `bun.lock` text lockfile\n",
      "----------------------------------------\n",
      "Issue ID: 2747315245\n",
      "Title: Turbopack does not handle CommonJS modules properly when \"type\": \"commonjs\" is specified in package.json\n",
      "----------------------------------------\n"
     ]
    }
   ],
   "source": [
    "# Main function to retrieve and print issues\n",
    "def main():\n",
    "    owner = 'vercel' \n",
    "    repo = 'next.js' \n",
    "    page = 1\n",
    "    per_page = 10\n",
    "\n",
    "    try:\n",
    "        issues_data = get_github_issues(owner, repo, page, per_page)\n",
    "        print_issues(issues_data)\n",
    "    except requests.exceptions.RequestException as e:\n",
    "        print(f'Error: {str(e)}')\n",
    "\n",
    "# Run the main function\n",
    "main()\n"
   ]
  },
  {
   "cell_type": "code",
   "execution_count": null,
   "id": "65440d1f-88fd-4f9e-82f2-4affc55af2c9",
   "metadata": {},
   "outputs": [],
   "source": []
  }
 ],
 "metadata": {
  "kernelspec": {
   "display_name": "Python 3 (ipykernel)",
   "language": "python",
   "name": "python3"
  },
  "language_info": {
   "codemirror_mode": {
    "name": "ipython",
    "version": 3
   },
   "file_extension": ".py",
   "mimetype": "text/x-python",
   "name": "python",
   "nbconvert_exporter": "python",
   "pygments_lexer": "ipython3",
   "version": "3.12.9"
  }
 },
 "nbformat": 4,
 "nbformat_minor": 5
}
