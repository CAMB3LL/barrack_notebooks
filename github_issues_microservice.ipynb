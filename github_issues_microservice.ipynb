{
 "cells": [
  {
   "cell_type": "code",
   "execution_count": null,
   "id": "7d5f8d9e",
   "metadata": {},
   "outputs": [],
   "source": [
    "# Import necessary libraries\n",
    "from flask import Flask, jsonify, request\n",
    "import requests\n",
    "import os\n"
   ]
  },
  {
   "cell_type": "code",
   "execution_count": null,
   "id": "c1d6e0e7",
   "metadata": {},
   "outputs": [],
   "source": [
    "# Initialize Flask application\n",
    "app = Flask(__name__)\n",
    "\n",
    "# GitHub API token (You may need to set this as an environment variable)\n",
    "GITHUB_TOKEN = os.getenv('GITHUB_TOKEN')\n",
    "\n",
    "# GitHub API base URL\n",
    "GITHUB_API_URL = 'https://api.github.com'\n"
   ]
  },
  {
   "cell_type": "code",
   "execution_count": null,
   "id": "d3f7b9b1",
   "metadata": {},
   "outputs": [],
   "source": [
    "# Helper function to get issues from GitHub\n",
    "def get_github_issues(owner, repo, page, per_page):\n",
    "    headers = {\n",
    "        'Authorization': f'token {GITHUB_TOKEN}',\n",
    "        'Accept': 'application/vnd.github.v3+json'\n",
    "    }\n",
    "    params = {\n",
    "        'q': f'repo:{owner}/{repo} is:issue is:closed label:bug linked:pr',\n",
    "        'page': page,\n",
    "        'per_page': per_page\n",
    "    }\n",
    "    response = requests.get(f'{GITHUB_API_URL}/search/issues', headers=headers, params=params)\n",
    "    response.raise_for_status()\n",
    "    return response.json()\n"
   ]
  },
  {
   "cell_type": "code",
   "execution_count": null,
   "id": "d1d2c4e6",
   "metadata": {},
   "outputs": [],
   "source": [
    "# Route to fetch issues from GitHub\n",
    "@app.route('/issues', methods=['GET'])\n",
    "def issues():\n",
    "    owner = request.args.get('owner')\n",
    "    repo = request.args.get('repo')\n",
    "    page = request.args.get('page', 1, type=int)\n",
    "    per_page = request.args.get('per_page', 10, type=int)\n",
    "    if not owner or not repo:\n",
    "        return jsonify({'error': 'Owner and repo parameters are required'}), 400\n",
    "    try:\n",
    "        issues_data = get_github_issues(owner, repo, page, per_page)\n",
    "        issues_list = []\n",
    "        for item in issues_data.get('items', []):\n",
    "            issue = {\n",
    "                'id': item['id'],\n",
    "                'title': item['title'],\n",
    "                'body': item['body'],\n",
    "                'url': item['html_url']\n",
    "            }\n",
    "            issues_list.append(issue)\n",
    "        return jsonify(issues_list)\n",
    "    except requests.exceptions.RequestException as e:\n",
    "        return jsonify({'error': str(e)}), 500\n"
   ]
  },
  {
   "cell_type": "code",
   "execution_count": null,
   "id": "f1e7b8b5",
   "metadata": {},
   "outputs": [],
   "source": [
    "# Run the Flask application\n",
    "if __name__ == '__main__':\n",
    "    app.run(debug=True, host='0.0.0.0', port=5000)\n"
   ]
  }
 ],
 "metadata": {
  "kernelspec": {
   "display_name": "Python 3",
   "language": "python",
   "name": "python3"
  },
  "language_info": {
   "codemirror_mode": {
    "name": "ipython",
    "version": 3
   },
   "file_extension": ".py",
   "mimetype": "text/x-python",
   "name": "python",
   "nbconvert_exporter": "python",
   "pygments_lexer": "ipython3",
   "version": "3.8.5"
  }
 },
 "nbformat": 4,
 "nbformat_minor": 5
}