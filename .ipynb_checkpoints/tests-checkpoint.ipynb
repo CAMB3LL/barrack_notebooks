{
 "cells": [
  {
   "cell_type": "code",
   "execution_count": 4,
   "id": "7fa805d1-e2d5-45c3-9cb2-fc42123f8ccc",
   "metadata": {},
   "outputs": [
    {
     "name": "stdout",
     "output_type": "stream",
     "text": [
      "Collecting openpyxl\n",
      "  Downloading openpyxl-3.1.5-py2.py3-none-any.whl.metadata (2.5 kB)\n",
      "Collecting et-xmlfile (from openpyxl)\n",
      "  Downloading et_xmlfile-2.0.0-py3-none-any.whl.metadata (2.7 kB)\n",
      "Downloading openpyxl-3.1.5-py2.py3-none-any.whl (250 kB)\n",
      "Downloading et_xmlfile-2.0.0-py3-none-any.whl (18 kB)\n",
      "Installing collected packages: et-xmlfile, openpyxl\n",
      "Successfully installed et-xmlfile-2.0.0 openpyxl-3.1.5\n"
     ]
    }
   ],
   "source": [
    "!pip install openpyxl"
   ]
  },
  {
   "cell_type": "code",
   "execution_count": 3,
   "id": "5d864696-0ba2-4c8b-a896-78b334f733ee",
   "metadata": {},
   "outputs": [
    {
     "ename": "ModuleNotFoundError",
     "evalue": "No module named 'openpyxl'",
     "output_type": "error",
     "traceback": [
      "\u001b[1;31m---------------------------------------------------------------------------\u001b[0m",
      "\u001b[1;31mModuleNotFoundError\u001b[0m                       Traceback (most recent call last)",
      "Cell \u001b[1;32mIn[3], line 3\u001b[0m\n\u001b[0;32m      1\u001b[0m \u001b[38;5;28;01mimport\u001b[39;00m \u001b[38;5;21;01mos\u001b[39;00m\n\u001b[0;32m      2\u001b[0m \u001b[38;5;28;01mimport\u001b[39;00m \u001b[38;5;21;01mjson\u001b[39;00m\n\u001b[1;32m----> 3\u001b[0m \u001b[38;5;28;01mfrom\u001b[39;00m \u001b[38;5;21;01mopenpyxl\u001b[39;00m \u001b[38;5;28;01mimport\u001b[39;00m Workbook, load_workbook\n\u001b[0;32m      5\u001b[0m \u001b[38;5;28;01mclass\u001b[39;00m \u001b[38;5;21;01mAnalyzedIssuesStorage\u001b[39;00m:\n\u001b[0;32m      6\u001b[0m     \u001b[38;5;28;01mdef\u001b[39;00m \u001b[38;5;21m__init__\u001b[39m(\u001b[38;5;28mself\u001b[39m, filename\u001b[38;5;241m=\u001b[39m\u001b[38;5;124m'\u001b[39m\u001b[38;5;124manalyzed_issues.xlsx\u001b[39m\u001b[38;5;124m'\u001b[39m):\n",
      "\u001b[1;31mModuleNotFoundError\u001b[0m: No module named 'openpyxl'"
     ]
    }
   ],
   "source": [
    "import os\n",
    "import json\n",
    "from openpyxl import Workbook, load_workbook\n",
    "\n",
    "class AnalyzedIssuesStorage:\n",
    "    def __init__(self, filename='analyzed_issues.xlsx'):\n",
    "        self.filename = filename\n",
    "        self.analyzed_issues = self._load()\n",
    "\n",
    "    def _load(self):\n",
    "        if os.path.exists(self.filename):\n",
    "            try:\n",
    "                workbook = load_workbook(self.filename)\n",
    "                sheet = workbook.active\n",
    "                analyzed_issues = {}\n",
    "                for row in sheet.iter_rows(min_row=2, values_only=True):\n",
    "                    owner, repo, issue_id = row\n",
    "                    if owner not in analyzed_issues:\n",
    "                        analyzed_issues[owner] = {}\n",
    "                    if repo not in analyzed_issues[owner]:\n",
    "                        analyzed_issues[owner][repo] = []\n",
    "                    analyzed_issues[owner][repo].append(str(issue_id))\n",
    "                return analyzed_issues\n",
    "            except Exception as e:\n",
    "                print(f\"Error reading {self.filename}: {str(e)}\")\n",
    "                return {}\n",
    "        return {}\n",
    "    \n",
    "    def _save(self):\n",
    "        workbook = Workbook()\n",
    "        sheet = workbook.active\n",
    "        sheet.title = 'Analyzed Issues'\n",
    "        sheet.append(['Owner', 'Repo', 'Issue ID'])\n",
    "        for owner, repos in self.analyzed_issues.items():\n",
    "            for repo, issue_ids in repos.items():\n",
    "                for issue_id in issue_ids:\n",
    "                    sheet.append([owner, repo, issue_id])\n",
    "        workbook.save(self.filename)\n",
    "    \n",
    "    def is_analyzed(self, owner: str, repo: str, issue_id: int) -> bool:\n",
    "        return str(issue_id) in self.analyzed_issues.get(owner, {}).get(repo, [])\n",
    "    \n",
    "    def mark_as_analyzed(self, owner: str, repo: str, issue_id: int):\n",
    "        if owner not in self.analyzed_issues:\n",
    "            self.analyzed_issues[owner] = {}\n",
    "        if repo not in self.analyzed_issues[owner]:\n",
    "            self.analyzed_issues[owner][repo] = []\n",
    "        if str(issue_id) not in self.analyzed_issues[owner][repo]:\n",
    "            self.analyzed_issues[owner][repo].append(str(issue_id))\n",
    "            self._save()\n",
    "\n",
    "# Create an instance of AnalyzedIssuesStorage\n",
    "analyzed_issues_storage = AnalyzedIssuesStorage()\n",
    "\n",
    "# Simulate some hard-coded data\n",
    "owner = \"example_owner\"\n",
    "repo = \"example_repo\"\n",
    "issue_id_1 = 123\n",
    "issue_id_2 = 456\n",
    "\n",
    "# Check if the issues have been analyzed\n",
    "print(f\"Issue {issue_id_1} analyzed: {analyzed_issues_storage.is_analyzed(owner, repo, issue_id_1)}\")\n",
    "print(f\"Issue {issue_id_2} analyzed: {analyzed_issues_storage.is_analyzed(owner, repo, issue_id_2)}\")\n",
    "\n",
    "# Mark the first issue as analyzed\n",
    "analyzed_issues_storage.mark_as_analyzed(owner, repo, issue_id_1)\n",
    "\n",
    "# Check again if the issues have been analyzed\n",
    "print(f\"Issue {issue_id_1} analyzed: {analyzed_issues_storage.is_analyzed(owner, repo, issue_id_1)}\")\n",
    "print(f\"Issue {issue_id_2} analyzed: {analyzed_issues_storage.is_analyzed(owner, repo, issue_id_2)}\")\n",
    "\n",
    "# Mark the second issue as analyzed\n",
    "analyzed_issues_storage.mark_as_analyzed(owner, repo, issue_id_2)\n",
    "\n",
    "# Check again if the issues have been analyzed\n",
    "print(f\"Issue {issue_id_1} analyzed: {analyzed_issues_storage.is_analyzed(owner, repo, issue_id_1)}\")\n",
    "print(f\"Issue {issue_id_2} analyzed: {analyzed_issues_storage.is_analyzed(owner, repo, issue_id_2)}\")"
   ]
  },
  {
   "cell_type": "code",
   "execution_count": null,
   "id": "c6652af2-5df5-4bae-ba28-7da3a8331502",
   "metadata": {},
   "outputs": [],
   "source": []
  }
 ],
 "metadata": {
  "kernelspec": {
   "display_name": "Python 3 (ipykernel)",
   "language": "python",
   "name": "python3"
  },
  "language_info": {
   "codemirror_mode": {
    "name": "ipython",
    "version": 3
   },
   "file_extension": ".py",
   "mimetype": "text/x-python",
   "name": "python",
   "nbconvert_exporter": "python",
   "pygments_lexer": "ipython3",
   "version": "3.12.9"
  }
 },
 "nbformat": 4,
 "nbformat_minor": 5
}
